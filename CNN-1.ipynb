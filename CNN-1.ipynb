{
 "cells": [
  {
   "cell_type": "code",
   "execution_count": 1,
   "metadata": {},
   "outputs": [],
   "source": [
    "import numpy as np\n",
    "from sklearn.model_selection import train_test_split\n",
    "import tensorflow as tf\n",
    "from tensorflow.keras.datasets import mnist\n",
    "from tensorflow import keras\n",
    "from tensorflow.keras.layers import Dense, Activation\n",
    "from tensorflow.keras.models import Sequential\n",
    "from tensorflow.keras.utils import to_categorical"
   ]
  },
  {
   "cell_type": "code",
   "execution_count": 2,
   "metadata": {},
   "outputs": [],
   "source": [
    "# 下载Keras提供的手写数字图像数据。\n",
    "np.random.seed(0)\n",
    "(X_train_base, labels_train_base), (X_test, labels_test) = mnist.load_data()\n",
    "\n",
    "# 将训练集分成训练数据（X_train, labels_train）和验证数据（X_validation, labels_validation），比例为8：2。\n",
    "X_train,X_validation,labels_train,labels_validation = train_test_split(X_train_base,labels_train_base,test_size = 0.2)"
   ]
  },
  {
   "cell_type": "code",
   "execution_count": 3,
   "metadata": {},
   "outputs": [],
   "source": [
    "# 每个图像都是一个矩阵，所以要转换为1D→覆盖X_train, X_validation, X_test\n",
    "X_train = X_train.reshape(-1,784)\n",
    "X_validation = X_validation.reshape(-1,784)\n",
    "X_test = X_test.reshape(-1,784)\n",
    "\n",
    "#正常化\n",
    "X_train = X_train.astype('float32')\n",
    "X_validation = X_validation.astype('float32')\n",
    "X_test = X_test.astype('float32')\n",
    "X_train /= 255\n",
    "X_validation /= 255\n",
    "X_test /= 255"
   ]
  },
  {
   "cell_type": "code",
   "execution_count": 4,
   "metadata": {},
   "outputs": [],
   "source": [
    "# labels_train、labels_validation和labels_test被制成虚拟变量并存储在y_train、y_validation和y_test中。\n",
    "y_train = to_categorical(labels_train)\n",
    "y_validation = to_categorical(labels_validation)\n",
    "y_test = to_categorical(labels_test)"
   ]
  },
  {
   "cell_type": "code",
   "execution_count": 5,
   "metadata": {},
   "outputs": [],
   "source": [
    "# 参数设置\n",
    "n_features = 784\n",
    "n_hidden   = 100\n",
    "bias_init = 0.1\n",
    "\n",
    "# 学习率\n",
    "rate       = 0.01\n",
    "\n",
    "# 使用Sequential类准备好模型。\n",
    "model = Sequential()\n",
    "\n",
    "# 额外的隐藏层\n",
    "model.add(Dense(n_hidden,activation='relu',input_shape=(n_features,)))\n",
    "model.add(Dense(n_hidden,activation='relu'))\n",
    "model.add(Dense(n_hidden,activation='relu'))\n",
    "\n",
    "# 附加输出层\n",
    "model.add(Dense(10,activation='softmax'))"
   ]
  },
  {
   "cell_type": "code",
   "execution_count": 11,
   "metadata": {},
   "outputs": [
    {
     "name": "stdout",
     "output_type": "stream",
     "text": [
      "Epoch 1/3000\n",
      "480/480 [==============================] - 4s 6ms/step - loss: 0.0637 - mae: 0.0031 - accuracy: 0.9890 - val_loss: 0.2526 - val_mae: 0.0066 - val_accuracy: 0.9704\n",
      "Epoch 2/3000\n",
      "480/480 [==============================] - 2s 5ms/step - loss: 0.0485 - mae: 0.0027 - accuracy: 0.9905 - val_loss: 0.2579 - val_mae: 0.0073 - val_accuracy: 0.9711\n",
      "Epoch 3/3000\n",
      "480/480 [==============================] - 2s 5ms/step - loss: 0.0653 - mae: 0.0033 - accuracy: 0.9879 - val_loss: 0.2669 - val_mae: 0.0076 - val_accuracy: 0.9703\n",
      "Epoch 4/3000\n",
      "480/480 [==============================] - 3s 5ms/step - loss: 0.0631 - mae: 0.0032 - accuracy: 0.9881 - val_loss: 0.2527 - val_mae: 0.0066 - val_accuracy: 0.9705\n",
      "Epoch 5/3000\n",
      "480/480 [==============================] - 2s 5ms/step - loss: 0.0543 - mae: 0.0031 - accuracy: 0.9886 - val_loss: 0.3202 - val_mae: 0.0088 - val_accuracy: 0.9626\n",
      "Epoch 6/3000\n",
      "480/480 [==============================] - 2s 5ms/step - loss: 0.0525 - mae: 0.0031 - accuracy: 0.9893 - val_loss: 0.2342 - val_mae: 0.0057 - val_accuracy: 0.9751\n",
      "Epoch 7/3000\n",
      "480/480 [==============================] - 3s 6ms/step - loss: 0.0356 - mae: 0.0022 - accuracy: 0.9920 - val_loss: 0.2854 - val_mae: 0.0085 - val_accuracy: 0.9635\n",
      "Epoch 8/3000\n",
      "480/480 [==============================] - 3s 6ms/step - loss: 0.0650 - mae: 0.0035 - accuracy: 0.9877 - val_loss: 0.2433 - val_mae: 0.0068 - val_accuracy: 0.9693\n",
      "Epoch 9/3000\n",
      "480/480 [==============================] - 3s 5ms/step - loss: 0.0811 - mae: 0.0041 - accuracy: 0.9854 - val_loss: 0.2239 - val_mae: 0.0075 - val_accuracy: 0.9676\n",
      "Epoch 10/3000\n",
      "480/480 [==============================] - 2s 5ms/step - loss: 0.0560 - mae: 0.0031 - accuracy: 0.9888 - val_loss: 0.2262 - val_mae: 0.0071 - val_accuracy: 0.9700\n",
      "Epoch 11/3000\n",
      "480/480 [==============================] - 2s 5ms/step - loss: 0.0491 - mae: 0.0029 - accuracy: 0.9894 - val_loss: 0.2437 - val_mae: 0.0070 - val_accuracy: 0.9707\n",
      "Epoch 12/3000\n",
      "480/480 [==============================] - 2s 5ms/step - loss: 0.0401 - mae: 0.0023 - accuracy: 0.9915 - val_loss: 0.2701 - val_mae: 0.0067 - val_accuracy: 0.9714\n",
      "Epoch 13/3000\n",
      "480/480 [==============================] - 2s 5ms/step - loss: 0.0367 - mae: 0.0021 - accuracy: 0.9921 - val_loss: 0.2842 - val_mae: 0.0061 - val_accuracy: 0.9712\n",
      "Epoch 14/3000\n",
      "480/480 [==============================] - 3s 5ms/step - loss: 0.0327 - mae: 0.0019 - accuracy: 0.9930 - val_loss: 0.2452 - val_mae: 0.0060 - val_accuracy: 0.9732\n",
      "Epoch 15/3000\n",
      "480/480 [==============================] - 2s 4ms/step - loss: 0.0422 - mae: 0.0023 - accuracy: 0.9915 - val_loss: 0.3037 - val_mae: 0.0066 - val_accuracy: 0.9722\n",
      "Epoch 16/3000\n",
      "480/480 [==============================] - 2s 5ms/step - loss: 0.0791 - mae: 0.0034 - accuracy: 0.9876 - val_loss: 0.2776 - val_mae: 0.0076 - val_accuracy: 0.9651\n",
      "Epoch 17/3000\n",
      "480/480 [==============================] - 2s 4ms/step - loss: 0.0689 - mae: 0.0040 - accuracy: 0.9854 - val_loss: 0.2175 - val_mae: 0.0061 - val_accuracy: 0.9731\n",
      "Epoch 18/3000\n",
      "480/480 [==============================] - 2s 5ms/step - loss: 0.0475 - mae: 0.0028 - accuracy: 0.9894 - val_loss: 0.2633 - val_mae: 0.0063 - val_accuracy: 0.9727\n",
      "Epoch 19/3000\n",
      "480/480 [==============================] - 2s 4ms/step - loss: 0.0302 - mae: 0.0020 - accuracy: 0.9929 - val_loss: 0.2420 - val_mae: 0.0063 - val_accuracy: 0.9760\n",
      "Epoch 20/3000\n",
      "480/480 [==============================] - 2s 5ms/step - loss: 0.0339 - mae: 0.0020 - accuracy: 0.9932 - val_loss: 0.2804 - val_mae: 0.0061 - val_accuracy: 0.9731\n",
      "Epoch 21/3000\n",
      "480/480 [==============================] - 2s 5ms/step - loss: 0.0573 - mae: 0.0027 - accuracy: 0.9904 - val_loss: 0.3166 - val_mae: 0.0071 - val_accuracy: 0.9712\n",
      "Epoch 22/3000\n",
      "480/480 [==============================] - 2s 4ms/step - loss: 0.1058 - mae: 0.0037 - accuracy: 0.9863 - val_loss: 0.3144 - val_mae: 0.0068 - val_accuracy: 0.9704\n",
      "Epoch 23/3000\n",
      "480/480 [==============================] - 2s 5ms/step - loss: 0.0507 - mae: 0.0029 - accuracy: 0.9892 - val_loss: 0.3233 - val_mae: 0.0061 - val_accuracy: 0.9738\n",
      "Epoch 24/3000\n",
      "480/480 [==============================] - 2s 5ms/step - loss: 0.0453 - mae: 0.0025 - accuracy: 0.9916 - val_loss: 0.3097 - val_mae: 0.0062 - val_accuracy: 0.9719\n",
      "Epoch 25/3000\n",
      "480/480 [==============================] - 2s 4ms/step - loss: 0.0388 - mae: 0.0022 - accuracy: 0.9920 - val_loss: 0.3505 - val_mae: 0.0077 - val_accuracy: 0.9678\n",
      "Epoch 26/3000\n",
      "480/480 [==============================] - 2s 4ms/step - loss: 0.0442 - mae: 0.0025 - accuracy: 0.9910 - val_loss: 0.3511 - val_mae: 0.0104 - val_accuracy: 0.9542\n",
      "Epoch 27/3000\n",
      "480/480 [==============================] - 2s 5ms/step - loss: 0.0623 - mae: 0.0030 - accuracy: 0.9880 - val_loss: 0.3322 - val_mae: 0.0067 - val_accuracy: 0.9693\n",
      "Epoch 27: early stopping\n"
     ]
    }
   ],
   "source": [
    "# 构建TensorFlow模型\n",
    "model.compile(optimizer=tf.optimizers.Adam(rate),\n",
    "              loss='categorical_crossentropy',\n",
    "              metrics=['mae', 'accuracy'])\n",
    "\n",
    "# 适用于早期停止和装配\n",
    "log = model.fit(X_train, y_train, epochs=3000, \n",
    "                batch_size=100, verbose=True,\n",
    "                callbacks=[keras.callbacks.EarlyStopping(monitor='val_loss', \n",
    "                                                         min_delta=0, patience=10, verbose=1)],\n",
    "                validation_data=(X_validation, y_validation))"
   ]
  },
  {
   "cell_type": "code",
   "execution_count": 21,
   "metadata": {},
   "outputs": [
    {
     "name": "stdout",
     "output_type": "stream",
     "text": [
      "313/313 [==============================] - 1s 2ms/step\n",
      "9705/10000 correct (97.050%)\n"
     ]
    }
   ],
   "source": [
    "# 用测试数据运行预测。\n",
    "pred_test = model.predict(X_test)\n",
    "pred_tesr=np.argmax(pred_test,axis=1)\n",
    "\n",
    "validation = (pred_tesr == labels_test)\n",
    "size=validation.size\n",
    "correct = np.count_nonzero(validation)\n",
    "print(f\"{correct}/{size} correct ({correct*100/size:.3f}%)\")"
   ]
  }
 ],
 "metadata": {
  "kernelspec": {
   "display_name": "Python 3",
   "language": "python",
   "name": "python3"
  },
  "language_info": {
   "codemirror_mode": {
    "name": "ipython",
    "version": 3
   },
   "file_extension": ".py",
   "mimetype": "text/x-python",
   "name": "python",
   "nbconvert_exporter": "python",
   "pygments_lexer": "ipython3",
   "version": "3.10.7"
  },
  "orig_nbformat": 4
 },
 "nbformat": 4,
 "nbformat_minor": 2
}
